{
  "nbformat": 4,
  "nbformat_minor": 0,
  "metadata": {
    "colab": {
      "provenance": []
    },
    "kernelspec": {
      "name": "python3",
      "display_name": "Python 3"
    },
    "language_info": {
      "name": "python"
    }
  },
  "cells": [
    {
      "cell_type": "markdown",
      "source": [
        "# **File Handling Basic**"
      ],
      "metadata": {
        "id": "SmR1HKP35kMG"
      }
    },
    {
      "cell_type": "markdown",
      "source": [
        "Q1. What is the difference between interpreted and compiled languages?\n",
        "\n",
        "Answer:\n",
        "\n",
        "Interpreted Language:\n",
        "\n",
        "* Translated line-by-line at runtime.\n",
        "* No separate executable runs directly.\n",
        "* Slower (due to runtime translation).\n",
        "* Errors found at runtime, one at a time.\n",
        "* More dynamic, easy to test and debug.\n",
        "\n",
        "Example:\n",
        "\tPython, JavaScript, PHP, Ruby\n",
        "\n",
        "Compiled Language:\n",
        "\n",
        "* Translated all at once into machine code.\n",
        "* Creates a separate .exe or binary file.\n",
        "* Faster (pre-compiled to native code).\n",
        "* Errors found at compile-time, before running.\n",
        "* Better for large-scale applications.\n",
        "\n",
        "Example:\n",
        "C, C++, Rust, Go\n",
        "\n",
        "Q2.  What is exception handling in Python?\n",
        "\n",
        "Answer:\n",
        "\n",
        "Exception handling in Python is a mechanism to gracefully handle runtime errors (exceptions) so that the program doesn’t crash and can respond properly.\n",
        "\n",
        "\n",
        "      Example:\n",
        "\n",
        "          try:\n",
        "              num = int(input(\"Enter a number: \"))\n",
        "              result = 10 / num\n",
        "          except ValueError:\n",
        "              print(\"Please enter a valid number!\")\n",
        "          except ZeroDivisionError:\n",
        "              print(\"You can't divide by zero.\")\n",
        "          else:\n",
        "              print(\"Result:\", result)\n",
        "          finally:\n",
        "              print(\"Execution complete.\")\n",
        "\n",
        "\n",
        "\n",
        "Q3. What is the purpose of the finally block in exception handling?\n",
        "\n",
        "Answer:\n",
        "\n",
        "The finally block is used to define code that will always execute, whether an exception occurs or not.\n",
        "\n",
        "Key Purpose:\n",
        "\n",
        "* To clean up resources like files, database connections, or network sockets.\n",
        "\n",
        "* To perform final steps regardless of whether an error occurred or not.\n",
        "\n",
        "Q4. What is logging in Python?\n",
        "\n",
        "Answer:\n",
        "\n",
        "Logging in Python is a way to track events that happen when your program runs.\n",
        "Instead of using print() statements for debugging or monitoring, Python provides the built-in logging module to:\n",
        "\n",
        "* Report status messages.\n",
        "\n",
        "* Track errors and exceptions.\n",
        "\n",
        "* Keep logs in files for analysis later.\n",
        "\n",
        "      Example:\n",
        "\n",
        "      import logging\n",
        "\n",
        "      logging.basicConfig(level=logging.INFO)\n",
        "      logging.info(\"This is an info message.\")\n",
        "\n",
        "      #Output\n",
        "      INFO:root:This is an info message.\n",
        "\n",
        "\n",
        "\n",
        "\n",
        "Q5. What is the significance of the __del__ method in Python?\n",
        "\n",
        "Answer:\n",
        "\n",
        "The ______del__() method in Python is a special method called a destructor.\n",
        "\n",
        "It is automatically invoked when an object is about to be destroyed (i.e., garbage collected).\n",
        "\n",
        "Purpose of __del__():\n",
        "To perform cleanup actions before the object is deleted from memory.\n",
        "\n",
        "Useful for releasing external resources like:\n",
        "\n",
        "* Open files\n",
        "\n",
        "* Database connections\n",
        "\n",
        "* Network sockets\n",
        "\n",
        "      Example:\n",
        "\n",
        "      class FileHandler:\n",
        "          def __init__(self, filename):\n",
        "              self.file = open(filename, 'w')\n",
        "              print(\"File opened\")\n",
        "\n",
        "          def __del__(self):\n",
        "              self.file.close()\n",
        "              print(\"File closed\")\n",
        "\n",
        "      f = FileHandler(\"demo.txt\")\n",
        "      del f  # Explicitly deleting the object\n",
        "\n",
        "      #Output\n",
        "      File opened  \n",
        "      File closed\n",
        "\n",
        "Q6. What is the difference between import and from ... import in Python?\n",
        "\n",
        "Answer:\n",
        "\n",
        "1. import module_name:\n",
        "\n",
        "* Imports the entire module\n",
        "\n",
        "* You must use the module name as a prefix when accessing its contents\n",
        "\n",
        "\n",
        "      Example:\n",
        "\n",
        "      import math\n",
        "\n",
        "      print(math.sqrt(16))  # Access using math.\n",
        "\n",
        "2. from module_name import something:\n",
        "\n",
        "* Imports specific items (functions, classes, variables) from a module\n",
        "\n",
        "* You don’t need the module name as a prefix\n",
        "\n",
        "\n",
        "      Example:\n",
        "\n",
        "      from math import sqrt\n",
        "\n",
        "      print(sqrt(16))  # No need to use math.\n",
        "\n",
        "\n",
        "Q7. How can you handle multiple exceptions in Python?\n",
        "\n",
        "Answer:\n",
        "\n",
        "Python provides several ways to handle multiple exceptions in a try-except block. This helps your program deal with different types of errors gracefully.\n",
        "\n",
        "1. Handle Multiple Exceptions Separately:\n",
        "\n",
        "        try:\n",
        "            num = int(input(\"Enter a number: \"))\n",
        "            result = 10 / num\n",
        "        except ValueError:\n",
        "            print(\"Invalid input! Please enter a number.\")\n",
        "        except ZeroDivisionError:\n",
        "            print(\"Cannot divide by zero.\")\n",
        "\n",
        "2. Handle Multiple Exceptions in a Single Block:\n",
        "\n",
        "        try:\n",
        "            num = int(input(\"Enter a number: \"))\n",
        "            result = 10 / num\n",
        "        except (ValueError, ZeroDivisionError):\n",
        "            print(\"Something went wrong: invalid number or division by zero.\")\n",
        "\n",
        "\n",
        "3. Using Exception to Catch Any Error (Generic Catch):\n",
        "\n",
        "        try:\n",
        "            num = int(input(\"Enter a number: \"))\n",
        "            result = 10 / num\n",
        "        except Exception as e:\n",
        "            print(\"Error occurred:\", e)\n",
        "\n",
        "4. Using else and finally with Multiple Exceptions:\n",
        "\n",
        "        try:\n",
        "            num = int(input(\"Enter a number: \"))\n",
        "            result = 10 / num\n",
        "        except ValueError:\n",
        "            print(\"Not a valid integer.\")\n",
        "        except ZeroDivisionError:\n",
        "            print(\"Division by zero is not allowed.\")\n",
        "        else:\n",
        "            print(\"Result:\", result)\n",
        "        finally:\n",
        "            print(\"Program ended.\")\n",
        "\n",
        "Q8. What is the purpose of the with statement when handling files in Python?\n",
        "\n",
        "Answer:\n",
        "\n",
        "The with statement is used in Python to safely manage resources like files. When working with files, it ensures that the file is automatically closed, even if an error occurs during file operations.\n",
        "\n",
        "      Example:\n",
        "\n",
        "      with open(\"output.txt\", \"w\") as file:\n",
        "          file.write(\"Hello, world!\")\n",
        "      # No need to call file.close()\n",
        "\n",
        "How It Works Internally:\n",
        "\n",
        "* The with statement uses something called a context manager, which:\n",
        "\n",
        "* Calls ______enter__() when the block starts\n",
        "\n",
        "* Calls ______exit__() when the block ends (even if there’s an error)\n",
        "\n",
        "Q9. What is the difference between multithreading and multiprocessing?\n",
        "\n",
        "Answer:\n",
        "\n",
        "1. Multithreading\n",
        "\n",
        "* Definition: Multiple threads (smaller units of a process) run within the same process, sharing the same memory space.\n",
        "\n",
        "* Best for: I/O-bound tasks (e.g., reading/writing files, network calls).\n",
        "\n",
        "* GIL Effect: In CPython, the Global Interpreter Lock (GIL) allows only one thread to execute Python bytecode at a time, which means CPU-bound tasks won’t benefit much.\n",
        "\n",
        "* Advantages:\n",
        "\n",
        "    * Lightweight (threads share memory, so less overhead).\n",
        "\n",
        "    * Better for tasks waiting on input/output.\n",
        "\n",
        "* Disadvantages:\n",
        "\n",
        "    * Limited CPU-bound performance due to GIL.\n",
        "\n",
        "    * Thread safety issues (need synchronization like Lock).\n",
        "\n",
        "2. Multiprocessing\n",
        "\n",
        "* Definition: Multiple processes run in parallel, each with its own Python interpreter and memory space.\n",
        "\n",
        "* Best for: CPU-bound tasks (e.g., calculations, data processing).\n",
        "\n",
        "* No GIL Limitation: Each process has its own GIL, so true parallel execution is possible.\n",
        "\n",
        "* Advantages:\n",
        "\n",
        "    * Utilizes multiple CPU cores effectively.\n",
        "\n",
        "    * Avoids GIL restrictions.\n",
        "\n",
        "* Disadvantages:\n",
        "\n",
        "    * More memory usage (each process has its own memory space).\n",
        "\n",
        "    * Higher overhead for process creation and communication.\n",
        "\n",
        "Q10. What are the advantages of using logging in a program?\n",
        "\n",
        "Answer:\n",
        "\n",
        "Advantages of using logging:\n",
        "\n",
        "1. Better than print() for debugging:\n",
        "Allows structured, configurable, and easily removable debug output without altering core code.\n",
        "\n",
        "2. Different log levels: Supports severity levels like DEBUG, INFO, WARNING, ERROR, and CRITICAL for better filtering.\n",
        "\n",
        "3. Log to multiple outputs: Can send logs to console, files, or external systems simultaneously.\n",
        "\n",
        "4. Timestamps and formatting: Automatically adds timestamps, log levels, and custom formats for clarity.\n",
        "\n",
        "5. Easier maintenance: Centralized and consistent logging makes debugging and updating easier.\n",
        "\n",
        "6. Helps in production monitoring: Tracks system behavior in real time for quick issue detection and analysis.\n",
        "\n",
        "\n",
        "Q11. What is memory management in Python?\n",
        "\n",
        "Answer:\n",
        "\n",
        "Memory management in Python is the process by which Python allocates, tracks, and frees memory for objects during program execution, ensuring efficient use of resources.\n",
        "\n",
        "* Key points:\n",
        "\n",
        "    * Automatic – Python uses a built-in garbage collector to free unused memory.\n",
        "\n",
        "    * Dynamic allocation – Memory is allocated to objects when they’re created.\n",
        "\n",
        "    * Reference counting – Keeps track of how many variables reference an object; frees it when the count reaches zero.\n",
        "\n",
        "    * Garbage collection – Removes unreachable objects from memory, especially in case of circular references.\n",
        "\n",
        "    * Private heap space – All Python objects and data structures are stored in a private memory area, managed internally by the Python memory manager.\n",
        "\n",
        "\n",
        "\n",
        "Q12. What are the basic steps involved in exception handling in Python?\n",
        "\n",
        "Answer:\n",
        "\n",
        "The basic steps in Python exception handling are:\n",
        "\n",
        "* Wrap risky code in try – Place code that might raise an exception inside a try block.\n",
        "\n",
        "* Catch exceptions with except – Handle specific or general exceptions.\n",
        "\n",
        "* Use else (optional) – Run code if no exception occurred.\n",
        "\n",
        "* Use finally (optional) – Run cleanup code, regardless of exceptions.\n",
        "\n",
        "Q13. Why is memory management important in Python?\n",
        "\n",
        "Answer:\n",
        "\n",
        "Memory management is important in Python because:\n",
        "\n",
        "* Efficient use of resources\n",
        "\n",
        "    * A computer’s memory is limited. Proper memory management ensures your program uses only the memory it needs and frees it when no longer required.\n",
        "\n",
        "* Prevents memory leaks\n",
        "\n",
        "    * If unused objects are not freed, memory leaks occur, causing the program to consume more and more RAM over time, eventually slowing down or crashing.\n",
        "\n",
        "* Keeps performance stable\n",
        "\n",
        "    * Good memory handling ensures smooth execution without unnecessary pauses or slowdowns from constant swapping between RAM and disk.\n",
        "\n",
        "* Automatic cleanup\n",
        "    \n",
        "    * Python’s garbage collector automatically removes unreferenced objects, reducing the risk of developer mistakes in manual memory handling.\n",
        "\n",
        "* Better scalability\n",
        "\n",
        "    * In larger or long-running applications, efficient memory management allows the program to handle more data and users without exhausting resources.\n",
        "\n",
        "Q14. What is the role of try and except in exception handling?\n",
        "\n",
        "Answer:\n",
        "\n",
        "try block → Contains the code you want to execute, but which might raise an exception.\n",
        "\n",
        "except block → contains the code that handles the exception if it occurs, preventing the program from crashing and allowing it to continue running or fail gracefully.\n",
        "\n",
        "      Example:\n",
        "      try:\n",
        "          x = 10 / 0   # risky code\n",
        "      except ZeroDivisionError:\n",
        "          print(\"You can’t divide by zero!\")\n",
        "\n",
        "\n",
        "Here, try tests the code, and except catches and handles the error.\n",
        "\n",
        "\n",
        "Q15. How does Python's garbage collection system work?\n",
        "\n",
        "Answer:\n",
        "\n",
        "1. Reference Counting (Primary method):\n",
        "\n",
        "* Every Python object keeps track of how many references (variables, containers, etc.) point to it.\n",
        "\n",
        "* When the reference count becomes zero, the object is immediately destroyed, and its memory is freed\n",
        "\n",
        "2. Cyclic Garbage Collector (Secondary method):\n",
        "\n",
        "* Reference counting fails if objects refer to each other (a reference cycle) even if nothing else references them.\n",
        "\n",
        "* Example of a cycle:\n",
        "      class Node:\n",
        "          def __init__(self):\n",
        "              self.ref = None\n",
        "\n",
        "      a = Node()\n",
        "      b = Node()\n",
        "      a.ref = b\n",
        "      b.ref = a  # Cycle created\n",
        "\n",
        "    Here, a and b keep each other alive even if no external references exist.\n",
        "\n",
        "* Python’s cyclic garbage collector (in the gc module) runs periodically to detect and clean up these cycles.\n",
        "\n",
        "3. Generational Garbage Collection:\n",
        "\n",
        "* Python groups objects into three generations:\n",
        "\n",
        "  * Gen 0: Newly created objects\n",
        "\n",
        "  * Gen 1: Survived one GC cycle\n",
        "\n",
        "  * Gen 2: Survived multiple GC cycles\n",
        "\n",
        "* Young objects are collected more often because most objects die young (optimization).\n",
        "\n",
        "* This reduces the overhead of checking long-lived objects repeatedly.\n",
        "\n",
        "4. Manual Control\n",
        "\n",
        "You can control GC behavior:\n",
        "\n",
        "      import gc\n",
        "\n",
        "      gc.collect()   # Force garbage collection\n",
        "      gc.disable()   # Turn off GC (not recommended for long runs)\n",
        "      gc.enable()    # Turn it back on\n",
        "\n",
        "\n",
        "Q16. What is the purpose of the else block in exception handling?\n",
        "\n",
        "Answer:\n",
        "\n",
        "The else block is executed only if no exceptions were raised in the try block. It’s a way to separate the code that should run only when everything goes smoothly, from the code that might raise an exception.\n",
        "\n",
        "    try:\n",
        "        result = 10 / 2\n",
        "    except ZeroDivisionError:\n",
        "        print(\"Cannot divide by zero.\")\n",
        "    else:\n",
        "        print(\"Division successful. Result is:\", result)\n",
        "\n",
        "\n",
        "    Output:\n",
        "    Division successful. Result is: 5.0\n",
        "\n",
        "Q17. What are the common logging levels in Python?\n",
        "\n",
        "\n",
        "Answer:\n",
        "\n",
        "In Python’s logging module, the common logging levels (from lowest to highest severity) are:\n",
        "\n",
        "* DEBUG – Detailed diagnostic information, mainly for developers during troubleshooting.\n",
        "\n",
        "* INFO – General information about program execution, confirming things are working as expected.\n",
        "\n",
        "* WARNING – Indicates a potential problem or unexpected situation that doesn’t stop the program.\n",
        "\n",
        "* ERROR – A serious issue that prevents part of the program from functioning.\n",
        "\n",
        "* CRITICAL – A very severe error, indicating the program itself may not continue running.\n",
        "\n",
        "Q18. What is the difference between os.fork() and multiprocessing in Python?\n",
        "\n",
        "\n",
        "Answer:\n",
        "\n",
        "* Platform Support\n",
        "\n",
        "    * os.fork(): Works only on Unix/Linux.\n",
        "\n",
        "    * multiprocessing: Works on Windows, macOS, and Unix.\n",
        "\n",
        "* Level of Abstraction\n",
        "\n",
        "    * os.fork(): Low-level system call (directly creates a process).\n",
        "\n",
        "    * multiprocessing: High-level API for creating and managing processes.\n",
        "\n",
        "* Ease of Use\n",
        "\n",
        "    * os.fork(): More complex, requires manual setup.\n",
        "\n",
        "    * multiprocessing: Easier, with ready-to-use classes and functions.\n",
        "\n",
        "* Inter-Process Communication (IPC)\n",
        "\n",
        "    * os.fork(): Must manually handle using pipes/sockets.\n",
        "\n",
        "    * multiprocessing: Has built-in Queue and Pipe for IPC.\n",
        "\n",
        "* Portability\n",
        "\n",
        "    * os.fork(): Not portable across all operating systems.\n",
        "\n",
        "    * multiprocessing: Portable across different OS.\n",
        "\n",
        "* Error Handling\n",
        "\n",
        "    * os.fork(): You must manage process failures manually.\n",
        "\n",
        "    * multiprocessing: Has built-in error handling mechanisms.\n",
        "\n",
        "* Thread Safety\n",
        "\n",
        "    * os.fork(): Requires extra care to avoid race conditions.\n",
        "\n",
        "    * multiprocessing: Safer, with built-in locks and synchronization tools.\n",
        "\n",
        "Q19. What is the importance of closing a file in Python?\n",
        "\n",
        "Answer:\n",
        "\n",
        "Closing a file in Python is important because:\n",
        "\n",
        "* Releases system resources – Frees up memory and file handles used by the OS.\n",
        "\n",
        "* Ensures data is saved – Writes any buffered data to disk before closing.\n",
        "\n",
        "* Prevents data corruption – Avoids incomplete writes or unexpected file changes.\n",
        "\n",
        "* Allows other processes to access the file – Some files stay locked until closed.\n",
        "\n",
        "* Good coding practice – Keeps code clean and prevents resource leaks.\n",
        "\n",
        "\n",
        "Q20. What is the difference between file.read() and file.readline() in Python?\n",
        "\n",
        "\n",
        "Answer:\n",
        "\n",
        "file.read() – Reads the entire file (or a specified number of characters/bytes if you pass an argument) as a single string.\n",
        "\n",
        "file.readline() – Reads only one line from the file at a time (up to the newline character \\n).\n",
        "\n",
        "\n",
        "Q21. What is the logging module in Python used for?\n",
        "\n",
        "\n",
        "Answer:\n",
        "\n",
        "The logging module in Python is used to record (log) messages from your program — like errors, warnings, and debug information — so you can monitor and troubleshoot what your program is doing.\n",
        "\n",
        "Key purposes:\n",
        "\n",
        "* Debugging – Helps track issues by logging detailed debug messages.\n",
        "\n",
        "* Error tracking – Records exceptions and errors for later analysis.\n",
        "\n",
        "* Monitoring – Keeps a log of events, which can be stored in files, consoles, or even remote servers.\n",
        "\n",
        "* Configurable levels – Lets you filter messages (e.g., DEBUG, INFO, WARNING, ERROR, CRITICAL).\n",
        "\n",
        "* Centralized logging – Avoids using print() everywhere and provides more structured control over log formatting and output.\n",
        "\n",
        "\n",
        "Q22. What is the os module in Python used for in file handling?\n",
        "\n",
        "Answer:\n",
        "\n",
        "In Python, the os module is used for interacting with the operating system, and in file handling it helps you create, read, write, delete, and manage files and directories at the OS level.\n",
        "\n",
        "Main uses of os in file handling:\n",
        "\n",
        "* File path operations –\n",
        "\n",
        "    * os.path.join() → Combine directory and file names safely.\n",
        "\n",
        "    * os.path.exists() → Check if a file or directory exists.\n",
        "\n",
        "* Creating and deleting files/directories –\n",
        "\n",
        "    * os.mkdir() → Create a directory.\n",
        "\n",
        "    * os.remove() → Delete a file.\n",
        "\n",
        "    * os.rmdir() → Remove an empty directory.\n",
        "\n",
        "* Listing files and directories –\n",
        "\n",
        "    * os.listdir() → Get a list of files/folders in a directory.\n",
        "\n",
        "* Changing directories –\n",
        "\n",
        "    * os.chdir() → Change the current working directory.\n",
        "\n",
        "* Getting information –\n",
        "\n",
        "    * os.getcwd() → Get the current working directory.\n",
        "\n",
        "\n",
        "Q23. What are the challenges associated with memory management in Python?\n",
        "\n",
        "Answer:\n",
        "\n",
        "1. Reference Cycles\n",
        "\n",
        "* When two or more objects reference each other, they can form a cycle that the garbage collector may not clean up immediately.\n",
        "\n",
        "        Example:\n",
        "        class A:\n",
        "            def __init__(self):\n",
        "                self.ref = None\n",
        "\n",
        "        obj1 = A()\n",
        "        obj2 = A()\n",
        "        obj1.ref = obj2\n",
        "        obj2.ref = obj1  # Cycle created\n",
        "* This can delay freeing memory until the cycle is explicitly broken.\n",
        "\n",
        "2. Memory Leaks\n",
        "\n",
        "* Even though Python manages memory automatically, unused objects can stay in memory if you keep references to them unintentionally.\n",
        "\n",
        "* Example: Keeping large unused data in a global variable.\n",
        "\n",
        "3. Large Object Handling\n",
        "\n",
        "* Large datasets (e.g., big lists, Pandas DataFrames) can consume huge memory, and Python’s object overhead is higher than low-level languages like C.\n",
        "\n",
        "* This can lead to slow performance or MemoryError.\n",
        "\n",
        "4. Fragmentation\n",
        "\n",
        "* Python uses memory pools (via pymalloc), which can cause fragmentation — memory gets split into small chunks that can’t be reused efficiently.\n",
        "\n",
        "5. Delayed Garbage Collection\n",
        "\n",
        "* Garbage collection in Python doesn’t always happen instantly after an object becomes unreachable; it’s triggered periodically.\n",
        "\n",
        "* This means memory might remain occupied for a while before being freed.\n",
        "\n",
        "6. External Resource Management\n",
        "\n",
        "* Objects like file handles, network connections, or database cursors aren’t always freed just by garbage collection — they require explicit closure (close() or context managers).\n",
        "\n",
        "7. Multithreading GIL Limitation\n",
        "\n",
        "* The Global Interpreter Lock (GIL) means only one thread executes Python bytecode at a time, which affects concurrency and can complicate memory optimization in multi-threaded programs.\n",
        "\n",
        "\n",
        "Q24.  How do you raise an exception manually in Python?\n",
        "\n",
        "Answer:\n",
        "\n",
        "In Python, you can manually raise an exception using the raise statement followed by the exception you want to trigger.\n",
        "\n",
        "        # Raising a generic exception\n",
        "        raise Exception(\"Something went wrong!\")\n",
        "\n",
        "        # Raising a specific exception\n",
        "        age = -5\n",
        "        if age < 0:\n",
        "            raise ValueError(\"Age cannot be negative\")\n",
        "\n",
        "\n",
        "Q25. Why is it important to use multithreading in certain applications?\n",
        "\n",
        "Answer:\n",
        "\n",
        "It’s important to use multithreading in certain applications because it can make programs faster, more responsive, and more efficient — but mostly when tasks are I/O-bound rather than CPU-bound.\n",
        "\n",
        "Here are the key reasons:\n",
        "\n",
        "* Improved responsiveness\n",
        "\n",
        "    * In GUI or interactive apps, one thread can handle user input while another thread performs background tasks (so the app doesn’t “freeze”).\n",
        "\n",
        "* Concurrent execution\n",
        "\n",
        "    * Multiple threads can work on different tasks at the same time, improving throughput for I/O-heavy operations (e.g., reading files, network requests).\n",
        "\n",
        "* Better resource utilization\n",
        "\n",
        "    * While one thread waits (e.g., for a network response), another thread can use the CPU to perform a different task.\n",
        "\n",
        "* Faster completion for I/O-bound tasks\n",
        "\n",
        "    * Threads allow overlapping of waiting time with computation time, reducing total execution time.\n",
        "\n",
        "* Separation of concerns\n",
        "\n",
        "    * Threads can be used to split program logic into independent, parallel units, making the design cleaner and easier to maintain.\n",
        "\n",
        "\n"
      ],
      "metadata": {
        "id": "Vw3RXxyJ5vpr"
      }
    },
    {
      "cell_type": "markdown",
      "source": [
        "# **Practical Questions**"
      ],
      "metadata": {
        "id": "HTXB1WhbYCaA"
      }
    },
    {
      "cell_type": "code",
      "source": [
        "# How can you open a file for writing in Python and write a string to it?\n",
        "\n",
        "with open(\"example.txt\", \"w\") as file:\n",
        "    file.write(\"Hello, Python world!\")\n",
        "    file.write(\"\\nMy second line of file\")"
      ],
      "metadata": {
        "id": "zHmeSHuyYKIo"
      },
      "execution_count": 52,
      "outputs": []
    },
    {
      "cell_type": "code",
      "source": [
        "#Write a Python program to read the contents of a file and print each line\n",
        "with open(\"example.txt\", \"r\") as file:\n",
        "    for line in file:\n",
        "        print(line)\n"
      ],
      "metadata": {
        "colab": {
          "base_uri": "https://localhost:8080/"
        },
        "id": "V4dqu8L4Ypse",
        "outputId": "79dc7b23-e7b2-4e77-edda-619b1b8eda17"
      },
      "execution_count": null,
      "outputs": [
        {
          "output_type": "stream",
          "name": "stdout",
          "text": [
            "Hello, Python world!My second line of file\n"
          ]
        }
      ]
    },
    {
      "cell_type": "code",
      "source": [
        "#How would you handle a case where the file doesn't exist while trying to open it for reading?\n",
        "\n",
        "try:\n",
        "    with open(\"My_file.txt\", \"r\") as file:\n",
        "        content = file.read()\n",
        "        print(content)\n",
        "except FileNotFoundError:\n",
        "    print(\"The file doesn't exist.\")"
      ],
      "metadata": {
        "colab": {
          "base_uri": "https://localhost:8080/"
        },
        "id": "ew8O9maWZxT8",
        "outputId": "cb1775a7-7d35-4825-eb07-08c366ab8c8b"
      },
      "execution_count": null,
      "outputs": [
        {
          "output_type": "stream",
          "name": "stdout",
          "text": [
            "The file doesn't exist.\n"
          ]
        }
      ]
    },
    {
      "cell_type": "code",
      "source": [
        "#Write a Python script that reads from one file and writes its content to another fileF?\n",
        "\n",
        "with open(\"example.txt\", \"r\") as source_file:\n",
        "    content = source_file.read()\n",
        "\n",
        "with open(\"my.txt\", \"w\") as target_file:\n",
        "    target_file.write(content)\n",
        "\n",
        "with open(\"my.txt\", \"r\") as target_file:\n",
        "    print(target_file.read())"
      ],
      "metadata": {
        "colab": {
          "base_uri": "https://localhost:8080/"
        },
        "id": "geXqvje8fUFY",
        "outputId": "068a86d7-1d22-4116-cf93-4968653875b8"
      },
      "execution_count": null,
      "outputs": [
        {
          "output_type": "stream",
          "name": "stdout",
          "text": [
            "Hello, Python world!My second line of file\n"
          ]
        }
      ]
    },
    {
      "cell_type": "code",
      "source": [
        "#How would you catch and handle division by zero error in Python?\n",
        "\n",
        "try:\n",
        "    num1 = 10\n",
        "    num2 = 0\n",
        "    result = num1 / num2\n",
        "    print(\"Result:\", result)\n",
        "except ZeroDivisionError as z:\n",
        "    print(\"Error: Cannot divide by zero!\",z)\n"
      ],
      "metadata": {
        "colab": {
          "base_uri": "https://localhost:8080/"
        },
        "id": "-7OXYbPlfwmv",
        "outputId": "78a34d58-1a46-41ff-8f21-e8cfd2f22649"
      },
      "execution_count": null,
      "outputs": [
        {
          "output_type": "stream",
          "name": "stdout",
          "text": [
            "Error: Cannot divide by zero! division by zero\n"
          ]
        }
      ]
    },
    {
      "cell_type": "code",
      "source": [
        "#Write a Python program that logs an error message to a log file when a division by zero exception occurs?\n",
        "\n",
        "import logging\n",
        "\n",
        "logging.basicConfig(filename=\"error.log\", level=logging.ERROR)\n",
        "\n",
        "try:\n",
        "    num1 = 10\n",
        "    num2 = 0\n",
        "    result = num1 / num2\n",
        "    print(\"Result:\", result)\n",
        "\n",
        "except ZeroDivisionError as z:\n",
        "    logging.error(\"Error: Cannot divide by zero!\",exc_info=True)\n"
      ],
      "metadata": {
        "colab": {
          "base_uri": "https://localhost:8080/"
        },
        "id": "XeoICmjTga-a",
        "outputId": "8aa36ad3-c01f-4240-c2b2-9fc68c5ffc80"
      },
      "execution_count": null,
      "outputs": [
        {
          "output_type": "stream",
          "name": "stderr",
          "text": [
            "ERROR:root:Error: Cannot divide by zero!\n",
            "Traceback (most recent call last):\n",
            "  File \"/tmp/ipython-input-3070914107.py\", line 10, in <cell line: 0>\n",
            "    result = num1 / num2\n",
            "             ~~~~~^~~~~~\n",
            "ZeroDivisionError: division by zero\n"
          ]
        }
      ]
    },
    {
      "cell_type": "code",
      "source": [
        "# How do you log information at different levels (INFO, ERROR, WARNING) in Python using the logging module\n",
        "\n",
        "import logging\n",
        "\n",
        "\n",
        "logging.basicConfig(\n",
        "    filename=\"app.log\",\n",
        "    level=logging.DEBUG,\n",
        "    format=\"%(levelname)s:%(message)s\"\n",
        ")\n",
        "\n",
        "\n",
        "logging.debug(\"This is a debug message\")\n",
        "logging.info(\"This is an info message\")\n",
        "logging.warning(\"This is a warning message\")\n",
        "logging.error(\"This is an error message\")\n",
        "logging.critical(\"This is a critical message\")\n"
      ],
      "metadata": {
        "colab": {
          "base_uri": "https://localhost:8080/"
        },
        "id": "8wBJismFixL4",
        "outputId": "8c92b791-3b4d-45cb-ced0-a3f6dd5fe838"
      },
      "execution_count": null,
      "outputs": [
        {
          "output_type": "stream",
          "name": "stderr",
          "text": [
            "WARNING:root:This is a warning message\n",
            "ERROR:root:This is an error message\n",
            "CRITICAL:root:This is a critical message\n"
          ]
        }
      ]
    },
    {
      "cell_type": "code",
      "source": [
        "#Write a program to handle a file opening error using exception handling?\n",
        "\n",
        "try:\n",
        "    with open(\"ABC_file.txt\", \"r\") as file:\n",
        "        contents = file.read()\n",
        "        print(contents)\n",
        "\n",
        "except FileNotFoundError:\n",
        "    print(\"Error: The file you are trying to open does not exist.\")\n",
        "\n",
        "except PermissionError:\n",
        "    print(\"Error: You don't have permission to open this file.\")\n",
        "\n",
        "except Exception as e:\n",
        "    print(f\"An unexpected error occurred: {e}\")\n"
      ],
      "metadata": {
        "id": "ZqY5YJVQliCo",
        "colab": {
          "base_uri": "https://localhost:8080/"
        },
        "outputId": "085885c9-0924-43a5-bcf9-48aa002e6e03"
      },
      "execution_count": 3,
      "outputs": [
        {
          "output_type": "stream",
          "name": "stdout",
          "text": [
            "Error: The file you are trying to open does not exist.\n"
          ]
        }
      ]
    },
    {
      "cell_type": "code",
      "source": [
        "# How can you read a file line by line and store its content in a list in Python\n",
        "\n",
        "with open(\"example.txt\", \"r\") as file:\n",
        "    lines = [line.strip() for line in file]\n",
        "\n",
        "\n",
        "print(lines)"
      ],
      "metadata": {
        "colab": {
          "base_uri": "https://localhost:8080/"
        },
        "id": "C0cfA52L_mWR",
        "outputId": "66cb10e7-e11e-4c98-8ab8-2ab9ba180a2b"
      },
      "execution_count": 13,
      "outputs": [
        {
          "output_type": "stream",
          "name": "stdout",
          "text": [
            "['Hello, Python world!My second line of file']\n"
          ]
        }
      ]
    },
    {
      "cell_type": "code",
      "source": [
        "# How can you append data to an existing file in Python?\n",
        "\n",
        "with open(\"example.txt\", \"a\") as file:\n",
        "    file.write(\"\\nThis is new data appended to the file.\")\n",
        "\n",
        "print(\"Data appended successfully!\\n\")\n",
        "\n",
        "\n",
        "with open(\"example.txt\", \"r\") as file:\n",
        "    for line in file:\n",
        "        print(line)\n"
      ],
      "metadata": {
        "colab": {
          "base_uri": "https://localhost:8080/"
        },
        "id": "okp4fOMfALb-",
        "outputId": "73d888ec-8ad2-4c6f-f5ae-533dd5c95158"
      },
      "execution_count": 19,
      "outputs": [
        {
          "output_type": "stream",
          "name": "stdout",
          "text": [
            "Data appended successfully!\n",
            "\n",
            "Hello, Python world!My second line of file\n",
            "\n",
            "This is new data appended to the file.\n"
          ]
        }
      ]
    },
    {
      "cell_type": "code",
      "source": [
        "''' Write a Python program that uses a try-except block to handle an error when attempting to access a\n",
        "dictionary key that doesn't exist'''\n",
        "\n",
        "a = {\n",
        "    \"name\": \"Priyanshu\",\n",
        "    \"gender\": \"Male\"\n",
        "    }\n",
        "\n",
        "try:\n",
        "  print(a[\"age\"])\n",
        "except KeyError:\n",
        "  print(\"Key not found in the dictionary\")\n"
      ],
      "metadata": {
        "colab": {
          "base_uri": "https://localhost:8080/"
        },
        "id": "IrtFlDBZBL33",
        "outputId": "15c0c19f-4004-461c-bc85-151442a36e67"
      },
      "execution_count": 23,
      "outputs": [
        {
          "output_type": "stream",
          "name": "stdout",
          "text": [
            "Key not found in the dictionary\n"
          ]
        }
      ]
    },
    {
      "cell_type": "code",
      "source": [
        "#  Write a program that demonstrates using multiple except blocks to handle different types of exceptions\n",
        "\n",
        "try:\n",
        "    num1 = int(input(\"Enter first number: \"))\n",
        "    num2 = int(input(\"Enter second number: \"))\n",
        "    result = num1 / num2\n",
        "    print(\"Result:\", result)\n",
        "except ValueError:\n",
        "    print(\"Invalid input. Please enter numbers only.\")\n",
        "except ZeroDivisionError:\n",
        "    print(\"Error: Division by zero is not allowed.\")\n",
        "except Exception as e:\n",
        "    print(\"An unexpected error occurred:\", e)\n"
      ],
      "metadata": {
        "colab": {
          "base_uri": "https://localhost:8080/"
        },
        "id": "t2evtqSJCpCr",
        "outputId": "713070e7-70c1-40bc-fc98-6a823c02996b"
      },
      "execution_count": 29,
      "outputs": [
        {
          "output_type": "stream",
          "name": "stdout",
          "text": [
            "Enter first number: 3\n",
            "Enter second number: \"3\"\n",
            "Invalid input. Please enter numbers only.\n"
          ]
        }
      ]
    },
    {
      "cell_type": "code",
      "source": [
        "# How would you check if a file exists before attempting to read it in Python?\n",
        "\n",
        "import os\n",
        "\n",
        "filename = \"data.txt\"\n",
        "\n",
        "if os.path.exists(filename):\n",
        "    with open(filename, \"r\") as file:\n",
        "        content = file.read()\n",
        "        print(content)\n",
        "else:\n",
        "    print(f\"File '{filename}' does not exist.\")"
      ],
      "metadata": {
        "colab": {
          "base_uri": "https://localhost:8080/"
        },
        "id": "TFGRldOSDVQE",
        "outputId": "d05bcab4-8cce-40c7-c121-cbdefff388bb"
      },
      "execution_count": 32,
      "outputs": [
        {
          "output_type": "stream",
          "name": "stdout",
          "text": [
            "File 'data.txt' does not exist.\n"
          ]
        }
      ]
    },
    {
      "cell_type": "code",
      "source": [
        "# Write a program that uses the logging module to log both informational and error messages?\n",
        "\n",
        "import logging\n",
        "\n",
        "logging.basicConfig(level=logging.DEBUG, format=\"%(asctime)s - %(levelname)s - %(message)s\", filename=\"app.log\", filemode=\"w\")\n",
        "\n",
        "logging.info(\"Application started\")\n",
        "logging.debug(\"Debugging application process\")\n",
        "\n",
        "try:\n",
        "    num1 = 10\n",
        "    num2 = 0\n",
        "    result = num1 / num2\n",
        "except ZeroDivisionError:\n",
        "    logging.error(\"Division by zero attempted\")\n",
        "else:\n",
        "    logging.info(f\"Division result: {result}\")\n",
        "\n",
        "logging.info(\"Application finished\")\n"
      ],
      "metadata": {
        "colab": {
          "base_uri": "https://localhost:8080/"
        },
        "id": "W20g6tINEaTW",
        "outputId": "96095cca-c81a-4c7f-a4ee-4eaa833236c7"
      },
      "execution_count": 34,
      "outputs": [
        {
          "output_type": "stream",
          "name": "stderr",
          "text": [
            "ERROR:root:Division by zero attempted\n"
          ]
        }
      ]
    },
    {
      "cell_type": "code",
      "source": [
        "# Demonstrate how to use memory profiling to check the memory usage of a small program\n",
        "from memory_profiler import profile\n",
        "\n",
        "@profile\n",
        "def process_data():\n",
        "    data = [i for i in range(100000)]\n",
        "    total = sum(data)\n",
        "    print(\"Sum:\", total)\n",
        "\n",
        "if __name__ == \"__main__\":\n",
        "    process_data()\n"
      ],
      "metadata": {
        "colab": {
          "base_uri": "https://localhost:8080/"
        },
        "id": "2W1OepgkF9XS",
        "outputId": "1c730149-2554-4e06-cd18-cc123d82a112"
      },
      "execution_count": 45,
      "outputs": [
        {
          "output_type": "stream",
          "name": "stdout",
          "text": [
            "ERROR: Could not find file /tmp/ipython-input-3211839139.py\n",
            "Sum: 4999950000\n"
          ]
        }
      ]
    },
    {
      "cell_type": "code",
      "source": [
        "#Write a Python program to create and write a list of numbers to a file, one number per line\n",
        "\n",
        "numbers = [1, 2, 3, 4, 5]\n",
        "with open(\"numbers.txt\", \"w\") as f:\n",
        "    for num in numbers:\n",
        "        f.write(f\"{num}\\n\")\n",
        "\n",
        "with open(\"numbers.txt\", \"r\") as file:\n",
        "    for line in file:\n",
        "        print(line)"
      ],
      "metadata": {
        "colab": {
          "base_uri": "https://localhost:8080/"
        },
        "id": "mmsSZ3YvIPnw",
        "outputId": "6486ccc4-9c26-4346-a089-afa23fa6afae"
      },
      "execution_count": 47,
      "outputs": [
        {
          "output_type": "stream",
          "name": "stdout",
          "text": [
            "1\n",
            "\n",
            "2\n",
            "\n",
            "3\n",
            "\n",
            "4\n",
            "\n",
            "5\n",
            "\n"
          ]
        }
      ]
    },
    {
      "cell_type": "code",
      "source": [
        "#How would you implement a basic logging setup that logs to a file with rotation after 1MB\n",
        "import logging\n",
        "from logging.handlers import RotatingFileHandler\n",
        "\n",
        "logger = logging.getLogger(\"my_logger\")\n",
        "logger.setLevel(logging.INFO)\n",
        "\n",
        "handler = RotatingFileHandler(\"app.log\", maxBytes=1_000_000, backupCount=5)\n",
        "formatter = logging.Formatter('%(asctime)s - %(levelname)s - %(message)s')\n",
        "handler.setFormatter(formatter)\n",
        "\n",
        "logger.addHandler(handler)\n",
        "\n",
        "logger.info(\"This is an informational message.\")\n",
        "logger.error(\"This is an error message.\")\n"
      ],
      "metadata": {
        "colab": {
          "base_uri": "https://localhost:8080/"
        },
        "id": "LPv1yzVlIoNy",
        "outputId": "92644fc1-9e95-4219-b871-597569b91a0a"
      },
      "execution_count": 48,
      "outputs": [
        {
          "output_type": "stream",
          "name": "stderr",
          "text": [
            "INFO:my_logger:This is an informational message.\n",
            "ERROR:my_logger:This is an error message.\n"
          ]
        }
      ]
    },
    {
      "cell_type": "code",
      "source": [
        "#Write a program that handles both IndexError and KeyError using a try-except block\n",
        "\n",
        "my_list = [1, 2, 3]\n",
        "my_dict = {\"a\": 10, \"b\": 20}\n",
        "\n",
        "try:\n",
        "    print(my_list[2])        # This will cause IndexError\n",
        "    print(my_dict[\"z\"])      # This will cause KeyError\n",
        "except IndexError:\n",
        "    print(\"Index out of range!\")\n",
        "except KeyError:\n",
        "    print(\"Key not found in dictionary!\")\n"
      ],
      "metadata": {
        "colab": {
          "base_uri": "https://localhost:8080/"
        },
        "id": "P-N1Id4jJAwi",
        "outputId": "d79604ad-e2b7-46fc-dc25-3b87316d2889"
      },
      "execution_count": 50,
      "outputs": [
        {
          "output_type": "stream",
          "name": "stdout",
          "text": [
            "3\n",
            "Key not found in dictionary!\n"
          ]
        }
      ]
    },
    {
      "cell_type": "code",
      "source": [
        "# How would you open a file and read its contents using a context manager in Python\n",
        "\n",
        "\n",
        "with open('example.txt', 'r') as file:\n",
        "    contents = file.read()\n",
        "    print(contents)"
      ],
      "metadata": {
        "colab": {
          "base_uri": "https://localhost:8080/"
        },
        "id": "QyOSr1dEJMZX",
        "outputId": "c542684f-5099-4d9e-fcaa-4d557b1ef0aa"
      },
      "execution_count": 53,
      "outputs": [
        {
          "output_type": "stream",
          "name": "stdout",
          "text": [
            "Hello, Python world!\n",
            "My second line of file\n"
          ]
        }
      ]
    },
    {
      "cell_type": "code",
      "source": [
        "# Write a Python program that reads a file and prints the number of occurrences of a specific word\n",
        "\n",
        "def count_word_occurrences(filename, target_word):\n",
        "    count = 0\n",
        "    target_word = target_word.lower()\n",
        "\n",
        "    try:\n",
        "        with open(filename, 'r') as file:\n",
        "            for line in file:\n",
        "                words = line.lower().split()\n",
        "                count += words.count(target_word)\n",
        "\n",
        "        print(f\"The word '{target_word}' occurred {count} times in '{filename}'.\")\n",
        "\n",
        "    except FileNotFoundError:\n",
        "        print(f\"Error: The file '{filename}' was not found.\")\n",
        "    except Exception as e:\n",
        "        print(f\"An error occurred: {e}\")\n",
        "\n",
        "# Example usage\n",
        "filename = 'example.txt'\n",
        "target_word = 'python'\n",
        "count_word_occurrences(filename, target_word)"
      ],
      "metadata": {
        "colab": {
          "base_uri": "https://localhost:8080/"
        },
        "id": "woJCjBEmJooK",
        "outputId": "a73aed53-e048-4981-ec33-7515d1c93295"
      },
      "execution_count": 54,
      "outputs": [
        {
          "output_type": "stream",
          "name": "stdout",
          "text": [
            "The word 'python' occurred 1 times in 'example.txt'.\n"
          ]
        }
      ]
    },
    {
      "cell_type": "code",
      "source": [
        "# How can you check if a file is empty before attempting to read its contents?\n",
        "\n",
        "import os\n",
        "\n",
        "filename = 'example.txt'\n",
        "\n",
        "if os.path.exists(filename) and os.stat(filename).st_size == 0:\n",
        "    print(\"The file is empty.\")\n",
        "else:\n",
        "    with open(filename, 'r') as file:\n",
        "        contents = file.read()\n",
        "        print(contents)"
      ],
      "metadata": {
        "colab": {
          "base_uri": "https://localhost:8080/"
        },
        "id": "5HoVENJRKc4-",
        "outputId": "4a45196d-3735-4924-f29e-8f75573a655d"
      },
      "execution_count": 55,
      "outputs": [
        {
          "output_type": "stream",
          "name": "stdout",
          "text": [
            "Hello, Python world!\n",
            "My second line of file\n"
          ]
        }
      ]
    },
    {
      "cell_type": "code",
      "source": [
        "# Write a Python program that writes to a log file when an error occurs during file handling?\n",
        "\n",
        "import logging\n",
        "\n",
        "\n",
        "logging.basicConfig(\n",
        "    filename='error.log',\n",
        "    level=logging.ERROR,\n",
        "    format='%(asctime)s - %(levelname)s - %(message)s'\n",
        ")\n",
        "\n",
        "def read_file(filename):\n",
        "    try:\n",
        "        with open(filename, 'r') as file:\n",
        "            contents = file.read()\n",
        "            print(contents)\n",
        "    except FileNotFoundError as e:\n",
        "        logging.error(f\"File not found: {filename} - {e}\")\n",
        "        print(f\"Error: The file '{filename}' was not found.\")\n",
        "    except PermissionError as e:\n",
        "        logging.error(f\"Permission denied: {filename} - {e}\")\n",
        "        print(f\"Error: Permission denied for file '{filename}'.\")\n",
        "    except Exception as e:\n",
        "        logging.error(f\"Unexpected error with file '{filename}': {e}\")\n",
        "        print(f\"An unexpected error occurred: {e}\")\n",
        "\n",
        "\n",
        "read_file('example.txt')"
      ],
      "metadata": {
        "colab": {
          "base_uri": "https://localhost:8080/"
        },
        "id": "a-63PuK_KqUl",
        "outputId": "92dab957-d1b3-4db7-d3ea-6aa69f31e31e"
      },
      "execution_count": 56,
      "outputs": [
        {
          "output_type": "stream",
          "name": "stdout",
          "text": [
            "Hello, Python world!\n",
            "My second line of file\n"
          ]
        }
      ]
    
